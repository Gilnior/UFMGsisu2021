{
  "nbformat": 4,
  "nbformat_minor": 0,
  "metadata": {
    "colab": {
      "name": "sisuUFMG.ipynb",
      "provenance": [],
      "collapsed_sections": [],
      "mount_file_id": "1YxXlxYqy0qyXOMUvKQOx-VcFDd6-4Rq3",
      "authorship_tag": "ABX9TyNfc14bC6W4Vf5H+dRh9Sqp",
      "include_colab_link": true
    },
    "kernelspec": {
      "name": "python3",
      "display_name": "Python 3"
    },
    "language_info": {
      "name": "python"
    }
  },
  "cells": [
    {
      "cell_type": "markdown",
      "metadata": {
        "id": "view-in-github",
        "colab_type": "text"
      },
      "source": [
        "<a href=\"https://colab.research.google.com/github/Gilnior/UFMGsisu2021/blob/main/sisuUFMG.ipynb\" target=\"_parent\"><img src=\"https://colab.research.google.com/assets/colab-badge.svg\" alt=\"Open In Colab\"/></a>"
      ]
    },
    {
      "cell_type": "code",
      "metadata": {
        "id": "AkXuhEVZNiqS",
        "colab": {
          "base_uri": "https://localhost:8080/"
        },
        "outputId": "4d72ff9c-b48a-4f74-c92c-e1f8a6a22156"
      },
      "source": [
        "!pip install PyPDF2\n",
        "import PyPDF2\n",
        "import re\n",
        "import pandas as pd\n",
        "import matplotlib.pyplot as plt\n"
      ],
      "execution_count": 1,
      "outputs": [
        {
          "output_type": "stream",
          "text": [
            "Collecting PyPDF2\n",
            "\u001b[?25l  Downloading https://files.pythonhosted.org/packages/b4/01/68fcc0d43daf4c6bdbc6b33cc3f77bda531c86b174cac56ef0ffdb96faab/PyPDF2-1.26.0.tar.gz (77kB)\n",
            "\r\u001b[K     |████▎                           | 10kB 14.1MB/s eta 0:00:01\r\u001b[K     |████████▌                       | 20kB 18.3MB/s eta 0:00:01\r\u001b[K     |████████████▊                   | 30kB 11.4MB/s eta 0:00:01\r\u001b[K     |█████████████████               | 40kB 10.6MB/s eta 0:00:01\r\u001b[K     |█████████████████████▏          | 51kB 9.3MB/s eta 0:00:01\r\u001b[K     |█████████████████████████▍      | 61kB 8.5MB/s eta 0:00:01\r\u001b[K     |█████████████████████████████▋  | 71kB 9.4MB/s eta 0:00:01\r\u001b[K     |████████████████████████████████| 81kB 4.6MB/s \n",
            "\u001b[?25hBuilding wheels for collected packages: PyPDF2\n",
            "  Building wheel for PyPDF2 (setup.py) ... \u001b[?25l\u001b[?25hdone\n",
            "  Created wheel for PyPDF2: filename=PyPDF2-1.26.0-cp37-none-any.whl size=61085 sha256=e0948665d93f5caaaea930c9287a135a94d88a57dc8bc1aeaff5ebb38662229f\n",
            "  Stored in directory: /root/.cache/pip/wheels/53/84/19/35bc977c8bf5f0c23a8a011aa958acd4da4bbd7a229315c1b7\n",
            "Successfully built PyPDF2\n",
            "Installing collected packages: PyPDF2\n",
            "Successfully installed PyPDF2-1.26.0\n"
          ],
          "name": "stdout"
        }
      ]
    },
    {
      "cell_type": "code",
      "metadata": {
        "id": "UGCypn2APJS6"
      },
      "source": [
        "def rawtext(page=0):\n",
        "    PDF = open('/content/drive/MyDrive/sisuUFMG.pdf', 'rb')\n",
        "    pdf = PyPDF2.PdfFileReader(PDF)\n",
        "    txt = pdf.getPage(page).extractText()\n",
        "    return txt"
      ],
      "execution_count": 2,
      "outputs": []
    },
    {
      "cell_type": "code",
      "metadata": {
        "id": "UcIh6mf_KY6_"
      },
      "source": [
        "def detalhe(i):\n",
        "  if i == 0:\n",
        "    return 2\n",
        "  elif i == 1 :\n",
        "    return 1\n",
        "  elif i == 2:\n",
        "    return 4\n",
        "  elif i < 4:\n",
        "    return 3\n",
        "  elif i == 4:\n",
        "    return 1\n"
      ],
      "execution_count": 3,
      "outputs": []
    },
    {
      "cell_type": "code",
      "metadata": {
        "id": "4EeJm9wDw2pk"
      },
      "source": [
        "def table(page=0,debug=False):\n",
        "  x = rawtext(page) \n",
        "\n",
        "  columns = ['Nome','Turno','Modalidade','Mínimo','Máximo']\n",
        "  table = {}\n",
        "  namep = re.compile(r'[o\\d][A-ZÍÃÓÇÔÕÊÉÂÁÉÚ\\s()a-z]{5,50}[VNMI][eoan]')\n",
        "  turnop = re.compile(r'Matutino[1234A]|Noturno[1234A]|Integral[1234A]|Vespertino')\n",
        "  modalidadep = re.compile(r'[1234]\\.[12]\\d{3},|Amplaconcorrência\\d{3},')\n",
        "  minimop = re.compile(r'\\d{3},\\d{2}\\d{3}')\n",
        "  maximop = re.compile(r'\\d{3},\\d{2}[A-Z2]|\\d{3},\\d{2}334')\n",
        "  patterns = [namep,turnop,modalidadep,minimop,maximop]\n",
        "\n",
        "  for i in range(len(columns)):\n",
        "    matches = patterns[i].finditer(x)\n",
        "    lista = []\n",
        "    for match in matches:\n",
        "      if i == 0:\n",
        "        zzz = 1\n",
        "      else:\n",
        "        zzz = 0\n",
        "      value = match.group()\n",
        "      f = detalhe(i)\n",
        "      lista.append(value[zzz:-f])\n",
        "    if i == 0:\n",
        "      m = lista.pop(0)\n",
        "    if debug:\n",
        "      print(len(lista),end=', ')\n",
        "    table[columns[i]] = lista\n",
        "  return table\n"
      ],
      "execution_count": 4,
      "outputs": []
    },
    {
      "cell_type": "code",
      "metadata": {
        "colab": {
          "base_uri": "https://localhost:8080/"
        },
        "id": "opJJCMDP_uYt",
        "outputId": "d110af07-5a64-446c-e462-f1cfec7fba82"
      },
      "source": [
        "for i in range(16):  # test if everyting is all right to all pages\n",
        "  table(i,debug=True)\n",
        "  print(i+1)"
      ],
      "execution_count": 22,
      "outputs": [
        {
          "output_type": "stream",
          "text": [
            "35, 35, 35, 35, 35, 1\n",
            "45, 45, 45, 45, 45, 2\n",
            "45, 45, 45, 45, 45, 3\n",
            "43, 43, 43, 43, 43, 4\n",
            "45, 45, 45, 45, 45, 5\n",
            "45, 45, 45, 45, 45, 6\n",
            "45, 45, 45, 45, 45, 7\n",
            "45, 45, 45, 45, 45, 8\n",
            "45, 45, 45, 45, 45, 9\n",
            "45, 45, 45, 45, 45, 10\n",
            "45, 45, 45, 45, 45, 11\n",
            "45, 45, 45, 45, 45, 12\n",
            "46, 46, 46, 46, 46, 13\n",
            "45, 45, 45, 45, 45, 14\n",
            "45, 45, 45, 45, 45, 15\n",
            "20, 20, 20, 20, 20, 16\n"
          ],
          "name": "stdout"
        }
      ]
    },
    {
      "cell_type": "code",
      "metadata": {
        "id": "ctOzVcaEpMMt"
      },
      "source": [
        "def DataF(i=0):\n",
        "  t = table(i)\n",
        "  return pd.DataFrame(t)"
      ],
      "execution_count": 6,
      "outputs": []
    },
    {
      "cell_type": "code",
      "metadata": {
        "colab": {
          "base_uri": "https://localhost:8080/",
          "height": 424
        },
        "id": "BU3xoVHOEO9K",
        "outputId": "9bb002f3-b59a-4053-c635-d51cd68e108a"
      },
      "source": [
        "DF = DataF()\n",
        "for n in range(1,16):\n",
        "  DF = DF.append(DataF(n), ignore_index=True)\n",
        "DF  # DataFrame is ready"
      ],
      "execution_count": 90,
      "outputs": [
        {
          "output_type": "execute_result",
          "data": {
            "text/html": [
              "<div>\n",
              "<style scoped>\n",
              "    .dataframe tbody tr th:only-of-type {\n",
              "        vertical-align: middle;\n",
              "    }\n",
              "\n",
              "    .dataframe tbody tr th {\n",
              "        vertical-align: top;\n",
              "    }\n",
              "\n",
              "    .dataframe thead th {\n",
              "        text-align: right;\n",
              "    }\n",
              "</style>\n",
              "<table border=\"1\" class=\"dataframe\">\n",
              "  <thead>\n",
              "    <tr style=\"text-align: right;\">\n",
              "      <th></th>\n",
              "      <th>Nome</th>\n",
              "      <th>Turno</th>\n",
              "      <th>Modalidade</th>\n",
              "      <th>Mínimo</th>\n",
              "      <th>Máximo</th>\n",
              "    </tr>\n",
              "  </thead>\n",
              "  <tbody>\n",
              "    <tr>\n",
              "      <th>0</th>\n",
              "      <td>ADMINISTRAÇÃO</td>\n",
              "      <td>Matutino</td>\n",
              "      <td>1.1</td>\n",
              "      <td>520,04</td>\n",
              "      <td>520,04</td>\n",
              "    </tr>\n",
              "    <tr>\n",
              "      <th>1</th>\n",
              "      <td>ADMINISTRAÇÃO</td>\n",
              "      <td>Matutino</td>\n",
              "      <td>1.2</td>\n",
              "      <td>642,08</td>\n",
              "      <td>674,66</td>\n",
              "    </tr>\n",
              "    <tr>\n",
              "      <th>2</th>\n",
              "      <td>ADMINISTRAÇÃO</td>\n",
              "      <td>Matutino</td>\n",
              "      <td>2.1</td>\n",
              "      <td>649,12</td>\n",
              "      <td>649,12</td>\n",
              "    </tr>\n",
              "    <tr>\n",
              "      <th>3</th>\n",
              "      <td>ADMINISTRAÇÃO</td>\n",
              "      <td>Matutino</td>\n",
              "      <td>2.2</td>\n",
              "      <td>698,38</td>\n",
              "      <td>719,48</td>\n",
              "    </tr>\n",
              "    <tr>\n",
              "      <th>4</th>\n",
              "      <td>ADMINISTRAÇÃO</td>\n",
              "      <td>Matutino</td>\n",
              "      <td>3.1</td>\n",
              "      <td>559,88</td>\n",
              "      <td>559,88</td>\n",
              "    </tr>\n",
              "    <tr>\n",
              "      <th>...</th>\n",
              "      <td>...</td>\n",
              "      <td>...</td>\n",
              "      <td>...</td>\n",
              "      <td>...</td>\n",
              "      <td>...</td>\n",
              "    </tr>\n",
              "    <tr>\n",
              "      <th>679</th>\n",
              "      <td>ZOOTECNIA</td>\n",
              "      <td>Matutino</td>\n",
              "      <td>2.2</td>\n",
              "      <td>622,36</td>\n",
              "      <td>636,70</td>\n",
              "    </tr>\n",
              "    <tr>\n",
              "      <th>680</th>\n",
              "      <td>ZOOTECNIA</td>\n",
              "      <td>Matutino</td>\n",
              "      <td>3.1</td>\n",
              "      <td>494,06</td>\n",
              "      <td>494,06</td>\n",
              "    </tr>\n",
              "    <tr>\n",
              "      <th>681</th>\n",
              "      <td>ZOOTECNIA</td>\n",
              "      <td>Matutino</td>\n",
              "      <td>3.2</td>\n",
              "      <td>595,62</td>\n",
              "      <td>650,50</td>\n",
              "    </tr>\n",
              "    <tr>\n",
              "      <th>682</th>\n",
              "      <td>ZOOTECNIA</td>\n",
              "      <td>Matutino</td>\n",
              "      <td>4.2</td>\n",
              "      <td>626,86</td>\n",
              "      <td>646,20</td>\n",
              "    </tr>\n",
              "    <tr>\n",
              "      <th>683</th>\n",
              "      <td>ZOOTECNIA</td>\n",
              "      <td>Matutino</td>\n",
              "      <td>Amplaconcorrência</td>\n",
              "      <td>643,94</td>\n",
              "      <td>689,3633</td>\n",
              "    </tr>\n",
              "  </tbody>\n",
              "</table>\n",
              "<p>684 rows × 5 columns</p>\n",
              "</div>"
            ],
            "text/plain": [
              "              Nome     Turno         Modalidade  Mínimo    Máximo\n",
              "0    ADMINISTRAÇÃO  Matutino                1.1  520,04    520,04\n",
              "1    ADMINISTRAÇÃO  Matutino                1.2  642,08    674,66\n",
              "2    ADMINISTRAÇÃO  Matutino                2.1  649,12    649,12\n",
              "3    ADMINISTRAÇÃO  Matutino                2.2  698,38    719,48\n",
              "4    ADMINISTRAÇÃO  Matutino                3.1  559,88    559,88\n",
              "..             ...       ...                ...     ...       ...\n",
              "679      ZOOTECNIA  Matutino                2.2  622,36    636,70\n",
              "680      ZOOTECNIA  Matutino                3.1  494,06    494,06\n",
              "681      ZOOTECNIA  Matutino                3.2  595,62    650,50\n",
              "682      ZOOTECNIA  Matutino                4.2  626,86    646,20\n",
              "683      ZOOTECNIA  Matutino  Amplaconcorrência  643,94  689,3633\n",
              "\n",
              "[684 rows x 5 columns]"
            ]
          },
          "metadata": {
            "tags": []
          },
          "execution_count": 90
        }
      ]
    },
    {
      "cell_type": "code",
      "metadata": {
        "id": "IZabWj-uERWn"
      },
      "source": [
        "# :one:  Número de cursos ofertados no SISU UFMG 2021\n",
        "#:two:  5 cursos com as maiores notas POR MODALIDADE (Cotas e A.C.)\n",
        "#:three:  5 cursos com as menores notas POR MODALIDADE (Cotas e A.C.)\n",
        "#:four:  Número de cursos Matutinos / Noturnos / Integrais"
      ],
      "execution_count": 8,
      "outputs": []
    },
    {
      "cell_type": "code",
      "metadata": {
        "colab": {
          "base_uri": "https://localhost:8080/"
        },
        "id": "bMGI4TH5Lcck",
        "outputId": "d79d970b-dd6b-4b0b-dee8-aa30ceb9a9b0"
      },
      "source": [
        "# :one:  Número de cursos ofertados no SISU UFMG 2021\n",
        "DF['Nome'].nunique()"
      ],
      "execution_count": 9,
      "outputs": [
        {
          "output_type": "execute_result",
          "data": {
            "text/plain": [
              "71"
            ]
          },
          "metadata": {
            "tags": []
          },
          "execution_count": 9
        }
      ]
    },
    {
      "cell_type": "code",
      "metadata": {
        "colab": {
          "base_uri": "https://localhost:8080/",
          "height": 206
        },
        "id": "i6Ah9d8MNwA_",
        "outputId": "e479b957-f4cb-4e6c-86d9-88fd6c7e250b"
      },
      "source": [
        "#:two:  5 cursos com as maiores notas POR MODALIDADE (Cotas e A.C.)\n",
        "def topV(i=1, plot=False,):\n",
        "  modalidades = list(DF['Modalidade'].unique())\n",
        "  condition =  DF['Modalidade'] == modalidades[i-1]\n",
        "  ex1 = DF.loc[condition].sort_values(by='Máximo', ascending=False)  # get 5 greatest\n",
        "  turno = list(ex1['Turno'].values)\n",
        "  nome = list(ex1['Nome'].values)\n",
        "  mamamia = []\n",
        "  for i in range(len(turno)):\n",
        "    if plot:\n",
        "      mamamia.append(f\"{nome[i][:5]} ({turno[i][0]})\")\n",
        "    else:\n",
        "            mamamia.append(f\"{nome[i]} ({turno[i][0]})\")\n",
        "  ex1['Nome'] = mamamia\n",
        "  res = ex1.iloc[:5]\n",
        "  return res.iloc[:,[0,2,4]]\n",
        "topV(8)"
      ],
      "execution_count": 52,
      "outputs": [
        {
          "output_type": "execute_result",
          "data": {
            "text/html": [
              "<div>\n",
              "<style scoped>\n",
              "    .dataframe tbody tr th:only-of-type {\n",
              "        vertical-align: middle;\n",
              "    }\n",
              "\n",
              "    .dataframe tbody tr th {\n",
              "        vertical-align: top;\n",
              "    }\n",
              "\n",
              "    .dataframe thead th {\n",
              "        text-align: right;\n",
              "    }\n",
              "</style>\n",
              "<table border=\"1\" class=\"dataframe\">\n",
              "  <thead>\n",
              "    <tr style=\"text-align: right;\">\n",
              "      <th></th>\n",
              "      <th>Nome</th>\n",
              "      <th>Modalidade</th>\n",
              "      <th>Máximo</th>\n",
              "    </tr>\n",
              "  </thead>\n",
              "  <tbody>\n",
              "    <tr>\n",
              "      <th>98</th>\n",
              "      <td>CIÊNCIA DA COMPUTAÇÃO (M)</td>\n",
              "      <td>Amplaconcorrência</td>\n",
              "      <td>845,00</td>\n",
              "    </tr>\n",
              "    <tr>\n",
              "      <th>542</th>\n",
              "      <td>MEDICINA (I)</td>\n",
              "      <td>Amplaconcorrência</td>\n",
              "      <td>836,50</td>\n",
              "    </tr>\n",
              "    <tr>\n",
              "      <th>533</th>\n",
              "      <td>MATEMÁTICA COMPUTACIONAL (M)</td>\n",
              "      <td>Amplaconcorrência</td>\n",
              "      <td>822,90</td>\n",
              "    </tr>\n",
              "    <tr>\n",
              "      <th>143</th>\n",
              "      <td>CIÊNCIAS ECONÔMICAS (M)</td>\n",
              "      <td>Amplaconcorrência</td>\n",
              "      <td>818,16</td>\n",
              "    </tr>\n",
              "    <tr>\n",
              "      <th>337</th>\n",
              "      <td>ENGENHARIA MECÂNICA (N)</td>\n",
              "      <td>Amplaconcorrência</td>\n",
              "      <td>817,00</td>\n",
              "    </tr>\n",
              "  </tbody>\n",
              "</table>\n",
              "</div>"
            ],
            "text/plain": [
              "                             Nome         Modalidade  Máximo\n",
              "98      CIÊNCIA DA COMPUTAÇÃO (M)  Amplaconcorrência  845,00\n",
              "542                  MEDICINA (I)  Amplaconcorrência  836,50\n",
              "533  MATEMÁTICA COMPUTACIONAL (M)  Amplaconcorrência  822,90\n",
              "143       CIÊNCIAS ECONÔMICAS (M)  Amplaconcorrência  818,16\n",
              "337       ENGENHARIA MECÂNICA (N)  Amplaconcorrência  817,00"
            ]
          },
          "metadata": {
            "tags": []
          },
          "execution_count": 52
        }
      ]
    },
    {
      "cell_type": "code",
      "metadata": {
        "colab": {
          "base_uri": "https://localhost:8080/",
          "height": 610
        },
        "id": "XDXV9WFSc5cb",
        "outputId": "0593589c-dd12-4ef2-9879-8ef3ad37356b"
      },
      "source": [
        "def pltex2(i=1):\n",
        "  top = topV(i).sort_values('Máximo')\n",
        "  x = list(top['Nome'])\n",
        "  y = list(top['Máximo'])\n",
        "\n",
        "  plt.style.use('dark_background')\n",
        "  plt.grid()\n",
        "  plt.title(f\"Top 5 na {top['Modalidade'].max()}\")\n",
        "  plt.barh(x,y,height=0.4)\n",
        "  plt.xlabel('Notas')\n",
        "  plt.ylabel('Cursos')\n",
        "\n",
        "  plt.show()\n",
        "pltex2(8)"
      ],
      "execution_count": 141,
      "outputs": [
        {
          "output_type": "display_data",
          "data": {
            "image/png": "[encoded data removed]",
            "text/plain": [
              "<Figure size 921.6x633.6 with 1 Axes>"
            ]
          },
          "metadata": {
            "tags": []
          }
        }
      ]
    },
    {
      "cell_type": "code",
      "metadata": {
        "colab": {
          "base_uri": "https://localhost:8080/",
          "height": 206
        },
        "id": "fIvnNClDYUrQ",
        "outputId": "594d7cb7-464e-4e88-8a5f-e8dfbaebc5a2"
      },
      "source": [
        "#:three:  5 cursos com as menores notas POR MODALIDADE (Cotas e A.C.)\n",
        "def ntopV(i=1, plot=False,):\n",
        "  modalidades = list(DF['Modalidade'].unique())\n",
        "  condition =  DF['Modalidade'] == modalidades[i-1]\n",
        "  ex1 = DF.loc[condition].sort_values(by='Mínimo', ascending=True) \n",
        "  turno = list(ex1['Turno'].values)\n",
        "  nome = list(ex1['Nome'].values)\n",
        "  mamamia = []\n",
        "  for i in range(len(turno)):\n",
        "    if plot:\n",
        "      mamamia.append(f\"{nome[i][:]} ({turno[i][0]})\")\n",
        "    else:\n",
        "            mamamia.append(f\"{nome[i]} ({turno[i][0]})\")\n",
        "  ex1['Nome'] = mamamia\n",
        "  res = ex1.iloc[:5]\n",
        "  return res.iloc[:,[0,2,3]]\n",
        "ntopV(8)"
      ],
      "execution_count": 83,
      "outputs": [
        {
          "output_type": "execute_result",
          "data": {
            "text/html": [
              "<div>\n",
              "<style scoped>\n",
              "    .dataframe tbody tr th:only-of-type {\n",
              "        vertical-align: middle;\n",
              "    }\n",
              "\n",
              "    .dataframe tbody tr th {\n",
              "        vertical-align: top;\n",
              "    }\n",
              "\n",
              "    .dataframe thead th {\n",
              "        text-align: right;\n",
              "    }\n",
              "</style>\n",
              "<table border=\"1\" class=\"dataframe\">\n",
              "  <thead>\n",
              "    <tr style=\"text-align: right;\">\n",
              "      <th></th>\n",
              "      <th>Nome</th>\n",
              "      <th>Modalidade</th>\n",
              "      <th>Mínimo</th>\n",
              "    </tr>\n",
              "  </thead>\n",
              "  <tbody>\n",
              "    <tr>\n",
              "      <th>75</th>\n",
              "      <td>BIBLIOTECONOMIA (M)</td>\n",
              "      <td>Amplaconcorrência</td>\n",
              "      <td>615,96</td>\n",
              "    </tr>\n",
              "    <tr>\n",
              "      <th>66</th>\n",
              "      <td>ARQUIVOLOGIA (N)</td>\n",
              "      <td>Amplaconcorrência</td>\n",
              "      <td>619,24</td>\n",
              "    </tr>\n",
              "    <tr>\n",
              "      <th>82</th>\n",
              "      <td>BIBLIOTECONOMIA (N)</td>\n",
              "      <td>Amplaconcorrência</td>\n",
              "      <td>631,40</td>\n",
              "    </tr>\n",
              "    <tr>\n",
              "      <th>321</th>\n",
              "      <td>ENGENHARIA FLORESTAL (M)</td>\n",
              "      <td>Amplaconcorrência</td>\n",
              "      <td>634,24</td>\n",
              "    </tr>\n",
              "    <tr>\n",
              "      <th>447</th>\n",
              "      <td>GESTÃO DE SERVIÇOS DE SAÚDE (N)</td>\n",
              "      <td>Amplaconcorrência</td>\n",
              "      <td>639,62</td>\n",
              "    </tr>\n",
              "  </tbody>\n",
              "</table>\n",
              "</div>"
            ],
            "text/plain": [
              "                                Nome         Modalidade  Mínimo\n",
              "75               BIBLIOTECONOMIA (M)  Amplaconcorrência  615,96\n",
              "66                  ARQUIVOLOGIA (N)  Amplaconcorrência  619,24\n",
              "82               BIBLIOTECONOMIA (N)  Amplaconcorrência  631,40\n",
              "321         ENGENHARIA FLORESTAL (M)  Amplaconcorrência  634,24\n",
              "447  GESTÃO DE SERVIÇOS DE SAÚDE (N)  Amplaconcorrência  639,62"
            ]
          },
          "metadata": {
            "tags": []
          },
          "execution_count": 83
        }
      ]
    },
    {
      "cell_type": "code",
      "metadata": {
        "colab": {
          "base_uri": "https://localhost:8080/",
          "height": 610
        },
        "id": "d1D2sORl55Al",
        "outputId": "548a7d3c-ec29-45e5-a856-9167479022da"
      },
      "source": [
        "def pltex3(i=1):\n",
        "  top = ntopV(i,plot=True).sort_values('Mínimo')\n",
        "  x = list(top['Nome'])\n",
        "  y = list(top['Mínimo'])\n",
        "\n",
        "  plt.style.use('dark_background')\n",
        "  plt.grid()\n",
        "  plt.title(f\"Top 5 menores na {top['Modalidade'].max()}\")\n",
        "  plt.barh(x,y,color='y',height=0.4)\n",
        "  plt.ylabel('Cursos')\n",
        "  plt.xlabel('Notas')\n",
        "\n",
        "  plt.show()\n",
        "pltex3(8)"
      ],
      "execution_count": 144,
      "outputs": [
        {
          "output_type": "display_data",
          "data": {
            "image/png": "[encoded data removed]",
            "text/plain": [
              "<Figure size 921.6x633.6 with 1 Axes>"
            ]
          },
          "metadata": {
            "tags": []
          }
        }
      ]
    },
    {
      "cell_type": "code",
      "metadata": {
        "id": "ewI1yGrfFsXd",
        "colab": {
          "base_uri": "https://localhost:8080/"
        },
        "outputId": "c0c0b54d-25d3-4c59-e5f0-77af21004f09"
      },
      "source": [
        "#:four:  Número de cursos Matutinos / Noturnos / Integrais\n",
        "def courseperturn(i=0,txt=True):\n",
        "  turno = list(DF['Turno'].unique())\n",
        "  condition = DF['Turno'] == turno[i]\n",
        "  ex = DF.loc[condition]\n",
        "  ex1 = ex['Nome'].nunique()\n",
        "  turno[2] = 'Verpertino'\n",
        "  if txt:\n",
        "    print(f'Há {ex1} curso(s) no turno {turno[i]}')\n",
        "  else:\n",
        "    return ex1\n",
        "\n",
        "\n",
        "for i in range(4):\n",
        "  courseperturn(i)"
      ],
      "execution_count": 51,
      "outputs": [
        {
          "output_type": "stream",
          "text": [
            "Há 55 curso(s) no turno Matutino\n",
            "Há 33 curso(s) no turno Noturno\n",
            "Há 1 curso(s) no turno Verpertino\n",
            "Há 1 curso(s) no turno Integral\n"
          ],
          "name": "stdout"
        }
      ]
    },
    {
      "cell_type": "code",
      "metadata": {
        "colab": {
          "base_uri": "https://localhost:8080/",
          "height": 610
        },
        "id": "J1G3syv_A9do",
        "outputId": "c1e767ff-a54d-4ae1-cebc-b01f5262a5ce"
      },
      "source": [
        "def pltex4():\n",
        "  nCourses = []\n",
        "  for i in range(4):\n",
        "    nCourses.append(courseperturn(i,txt=False))\n",
        "\n",
        "  turnos = list(DF['Turno'].unique())\n",
        "  turnos[2] = 'Vespertino'\n",
        "\n",
        "  plt.style.use('dark_background')\n",
        "  plt.bar(turnos,nCourses,width=0.3)\n",
        "  plt.grid()\n",
        "  plt.title('Número de cursos por turno')\n",
        "  plt.xlabel('Turnos')\n",
        "  plt.ylabel('Quantidade de cursos')\n",
        "\n",
        "  plt.show()\n",
        "pltex4()"
      ],
      "execution_count": 142,
      "outputs": [
        {
          "output_type": "display_data",
          "data": {
            "image/png": "[encoded data removed]",
            "text/plain": [
              "<Figure size 921.6x633.6 with 1 Axes>"
            ]
          },
          "metadata": {
            "tags": []
          }
        }
      ]
    }
  ]
}